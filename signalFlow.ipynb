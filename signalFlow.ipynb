{
 "cells": [
  {
   "cell_type": "code",
   "execution_count": 2,
   "metadata": {},
   "outputs": [],
   "source": [
    "import numpy as np\n",
    "import matplotlib.pyplot as plt"
   ]
  },
  {
   "cell_type": "code",
   "execution_count": 71,
   "metadata": {},
   "outputs": [],
   "source": [
    "# generate Header and payload, both assumed to be random\n",
    "pl_size = 5#640*480*4\n",
    "H_size = 2#64\n",
    "header = np.random.randint(2,size=H_size)\n",
    "pLoad = np.random.randint(2,size=pl_size)\n",
    "m = np.append(header, pLoad)\n",
    "if m[0] == 1:\n",
    "    m = np.append([1,0,1,0], m)\n",
    "else:\n",
    "    m = np.append([0,1,0,1], m)\n"
   ]
  },
  {
   "cell_type": "code",
   "execution_count": 96,
   "metadata": {},
   "outputs": [],
   "source": [
    "#BPSK modulator and mixing\n",
    "\n",
    "minv = ~m%2     #inverted message for 0 in BPSK scheme\n",
    "int_freq = 2 \n",
    "minv_up = np.repeat(minv,2*int_freq)\n",
    "m_up = np.repeat(m,2*int_freq)\n",
    "t = np.linspace(-1,1,2*int_freq*len(m))\n",
    "A = 1\n",
    "\n",
    "phi1 = np.cos(2*np.pi*int_freq*t)\n",
    "phi0 = -np.cos(2*np.pi*int_freq*t)\n",
    "\n",
    "X1 = np.multiply(phi1, m_up)\n",
    "X0 = np.multiply(phi0, minv_up)\n",
    "X = (X1+X0)*A\n",
    "\n"
   ]
  },
  {
   "cell_type": "code",
   "execution_count": 224,
   "metadata": {},
   "outputs": [
    {
     "name": "stdout",
     "output_type": "stream",
     "text": [
      "[1 0 1 0 1 1 1 0 1 0 0]\n",
      "[ 3.99220854 -0.67607597  3.89338688 -0.37254769  3.9528309   1.79869619\n",
      "  3.97022946 -6.57432991  4.26893992 -3.20807869  0.71405937  0.95291859\n",
      " -3.66015829 -1.6208434  -1.50760502 -4.97681309  3.31131518  7.96727835\n",
      " -1.31979296  0.52021095 -0.26030566 -3.22496239  2.65675835  4.01134556\n",
      " 11.39295825 -2.40596704  1.03109988 -4.73224809  3.36065459 -6.11425513\n",
      "  2.25581996 -1.11443797 -3.07142795  3.2640502  -1.61356483  1.02329409\n",
      "  1.33937672  2.02401314 -1.2394996  -1.77391824  3.48330453  0.35154826\n",
      "  0.58234087 -2.52782774]\n"
     ]
    }
   ],
   "source": [
    "#AWGN channel and Hard decoding\n",
    "\n",
    "#generate variance from Eb/N0 array\n",
    "EbN0dB = np.linspace(-15,15)\n",
    "EbN0 = 10 ** (EbN0dB/10)\n",
    "p = A ** 2\n",
    "R = 1\n",
    "var = (p/R)/(2*EbN0)\n",
    "\n",
    "#simulate AWGN channel\n",
    "var_idx = 0\n",
    "mue = 0\n",
    "z = np.random.normal(mue,np.sqrt(var[var_idx]),len(X))\n",
    "Y = z+X\n",
    "\n",
    "#Hard decoder\n",
    "m_hat = np.zeros(len(m))\n",
    "for i in range(len(m)):\n",
    "    if Y[i] > 0:\n",
    "        m_hat[i] = 1\n",
    "    else:\n",
    "        m_hat[i] = 0\n",
    "m_hat = m_hat.astype(int)\n",
    "print(m_hat)\n",
    "# print(m)\n",
    "# print(Y)\n",
    "print(z)\n"
   ]
  },
  {
   "cell_type": "code",
   "execution_count": 270,
   "metadata": {},
   "outputs": [
    {
     "name": "stdout",
     "output_type": "stream",
     "text": [
      "[[1.79306483]]\n",
      "[1.58113883e+01 1.37323706e+01 1.19267200e+01 1.03584920e+01\n",
      " 8.99646812e+00 7.81353488e+00 6.78614391e+00 5.89384317e+00\n",
      " 5.11886983e+00 4.44579667e+00 3.86122497e+00 3.35351781e+00\n",
      " 2.91256836e+00 2.52959874e+00 2.19698528e+00 1.90810670e+00\n",
      " 1.65721237e+00 1.43930780e+00 1.25005519e+00 1.08568715e+00\n",
      " 9.42931639e-01 8.18946853e-01 7.11264657e-01 6.17741444e-01\n",
      " 5.36515470e-01 4.65969788e-01 4.04700061e-01 3.51486606e-01\n",
      " 3.05270115e-01 2.65130567e-01 2.30268913e-01 1.99991170e-01\n",
      " 1.73694606e-01 1.50855741e-01 1.31019926e-01 1.13792296e-01\n",
      " 9.88299036e-02 8.58348953e-02 7.45485829e-02 6.47462921e-02\n",
      " 5.62328911e-02 4.88389055e-02 4.24171449e-02 3.68397728e-02\n",
      " 3.19957617e-02 2.77886829e-02 2.41347872e-02 2.09613372e-02\n",
      " 1.82051597e-02 1.58113883e-02]\n",
      "10\n"
     ]
    }
   ],
   "source": [
    "print(np.random.randn(1,1))\n",
    "print(var)\n",
    "print(10**1)"
   ]
  }
 ],
 "metadata": {
  "kernelspec": {
   "display_name": "base",
   "language": "python",
   "name": "python3"
  },
  "language_info": {
   "codemirror_mode": {
    "name": "ipython",
    "version": 3
   },
   "file_extension": ".py",
   "mimetype": "text/x-python",
   "name": "python",
   "nbconvert_exporter": "python",
   "pygments_lexer": "ipython3",
   "version": "3.10.9"
  }
 },
 "nbformat": 4,
 "nbformat_minor": 2
}
