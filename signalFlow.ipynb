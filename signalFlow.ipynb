{
 "cells": [
  {
   "cell_type": "code",
   "execution_count": 1,
   "metadata": {},
   "outputs": [],
   "source": [
    "import numpy as np\n",
    "import matplotlib.pyplot as plt"
   ]
  },
  {
   "cell_type": "code",
   "execution_count": 73,
   "metadata": {},
   "outputs": [],
   "source": [
    "# generate Header and payload, both assumed to be random\n",
    "pl_size = 640*480*4\n",
    "H_size = 64\n",
    "header = np.random.randint(2,size=H_size)\n",
    "pLoad = np.random.randint(2,size=pl_size)\n",
    "data = np.append(header, pLoad)\n",
    "if data[0] == 1:\n",
    "    data = np.append([1,0,1,0], data)\n",
    "else:\n",
    "    data = np.append([0,1,0,1], data)\n"
   ]
  },
  {
   "cell_type": "code",
   "execution_count": 78,
   "metadata": {},
   "outputs": [],
   "source": [
    "#BPSK modulator\n",
    "X = 2*data -1"
   ]
  }
 ],
 "metadata": {
  "kernelspec": {
   "display_name": "base",
   "language": "python",
   "name": "python3"
  },
  "language_info": {
   "codemirror_mode": {
    "name": "ipython",
    "version": 3
   },
   "file_extension": ".py",
   "mimetype": "text/x-python",
   "name": "python",
   "nbconvert_exporter": "python",
   "pygments_lexer": "ipython3",
   "version": "3.10.9"
  }
 },
 "nbformat": 4,
 "nbformat_minor": 2
}
