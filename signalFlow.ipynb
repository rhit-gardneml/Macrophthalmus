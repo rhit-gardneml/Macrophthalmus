{
 "cells": [
  {
   "cell_type": "code",
   "execution_count": 2,
   "metadata": {},
   "outputs": [],
   "source": [
    "import numpy as np\n",
    "import matplotlib.pyplot as plt"
   ]
  },
  {
   "cell_type": "code",
   "execution_count": 71,
   "metadata": {},
   "outputs": [],
   "source": [
    "# generate Header and payload, both assumed to be random\n",
    "pl_size = 5#640*480*4\n",
    "H_size = 2#64\n",
    "header = np.random.randint(2,size=H_size)\n",
    "pLoad = np.random.randint(2,size=pl_size)\n",
    "m = np.append(header, pLoad)\n",
    "if m[0] == 1:\n",
    "    m = np.append([1,0,1,0], m)\n",
    "else:\n",
    "    m = np.append([0,1,0,1], m)\n"
   ]
  },
  {
   "cell_type": "code",
   "execution_count": 96,
   "metadata": {},
   "outputs": [],
   "source": [
    "#BPSK modulator and mixing\n",
    "\n",
    "minv = ~m%2     #inverted message for 0 in BPSK scheme\n",
    "int_freq = 2 \n",
    "minv_up = np.repeat(minv,2*int_freq)\n",
    "m_up = np.repeat(m,2*int_freq)\n",
    "t = np.linspace(-1,1,2*int_freq*len(m))\n",
    "A = 1\n",
    "\n",
    "phi1 = np.cos(2*np.pi*int_freq*t)\n",
    "phi0 = -np.cos(2*np.pi*int_freq*t)\n",
    "\n",
    "X1 = np.multiply(phi1, m_up)\n",
    "X0 = np.multiply(phi0, minv_up)\n",
    "X = (X1+X0)*A\n",
    "\n"
   ]
  },
  {
   "cell_type": "code",
   "execution_count": 122,
   "metadata": {},
   "outputs": [
    {
     "name": "stdout",
     "output_type": "stream",
     "text": [
      "[ 0.34934216  1.98234553 -1.17541685 -2.12857152  0.17417485 -0.02475474\n",
      " -0.50610002 -1.87997667  0.26206363 -1.8003702   0.72079953  0.2363706\n",
      "  0.01005094 -0.36542734 -0.95483684 -1.02383786 -0.98410685  0.55573064\n",
      "  1.52369391 -0.37608051  0.38248988  0.04154008 -0.2489246  -0.9948409\n",
      " -1.58671632  0.00581403 -0.84781625 -1.14459461 -0.20792009  0.1079133\n",
      "  1.09370461 -0.12174992  0.61078779 -1.08361134  1.1420411   1.50279147\n",
      "  0.58316593 -0.02280359 -3.06017991 -0.70083717 -1.41915699 -0.21399445\n",
      " -1.20237145 -0.94822844]\n"
     ]
    }
   ],
   "source": [
    "#AWGN channel and Hard decoding\n",
    "\n",
    "#generate variance from Eb/N0 array\n",
    "EbN0dB = np.linspace(-3,12)\n",
    "EbN0 = 10 ** (EbN0dB/10)\n",
    "p = A ** 2\n",
    "R = 1\n",
    "var = (p/R)/(2*EbN0)\n",
    "var_idx = 0\n",
    "mue = 0\n",
    "z = np.random.normal(mue,np.sqrt(var[var_idx]),len(X))\n",
    "Y = z+X\n",
    "print(z)"
   ]
  }
 ],
 "metadata": {
  "kernelspec": {
   "display_name": "base",
   "language": "python",
   "name": "python3"
  },
  "language_info": {
   "codemirror_mode": {
    "name": "ipython",
    "version": 3
   },
   "file_extension": ".py",
   "mimetype": "text/x-python",
   "name": "python",
   "nbconvert_exporter": "python",
   "pygments_lexer": "ipython3",
   "version": "3.10.9"
  }
 },
 "nbformat": 4,
 "nbformat_minor": 2
}
