{
 "cells": [
  {
   "cell_type": "code",
   "execution_count": 5,
   "metadata": {},
   "outputs": [],
   "source": [
    "import numpy as np\n",
    "import matplotlib.pyplot as plt"
   ]
  },
  {
   "cell_type": "code",
   "execution_count": 183,
   "metadata": {},
   "outputs": [
    {
     "name": "stdout",
     "output_type": "stream",
     "text": [
      "6\n",
      "[0 1 0 1 1 0 0 1 1 1]\n",
      "[0. 1. 0. 1. 1. 0. 0. 1. 1. 1.]\n"
     ]
    }
   ],
   "source": [
    "#Generate binary message as random array of length N\n",
    "N = 10\n",
    "m = np.random.randint(2,size=N)\n",
    "print(sum(m))\n",
    "\n",
    "#BPSK mostulation\n",
    "x = np.ones(len(m),dtype=int)\n",
    "for i in range(len(m)):\n",
    "    if m[i] < 1:\n",
    "        x[i] = -1\n",
    "\n",
    "#Simulate AWGN channel\n",
    "mu, sigma = 0, 1\n",
    "z = np.random.normal(mu,sigma)\n",
    "y = z+x\n",
    "\n",
    "#ML decoder\n",
    "m_h = np.zeros(len(y))\n",
    "for i in range(len(y)):\n",
    "    if y[i] < 0:\n",
    "        m_h[i] = 0\n",
    "    else:\n",
    "        m_h[i] = 1"
   ]
  }
 ],
 "metadata": {
  "kernelspec": {
   "display_name": "Python 3 (ipykernel)",
   "language": "python",
   "name": "python3"
  },
  "language_info": {
   "codemirror_mode": {
    "name": "ipython",
    "version": 3
   },
   "file_extension": ".py",
   "mimetype": "text/x-python",
   "name": "python",
   "nbconvert_exporter": "python",
   "pygments_lexer": "ipython3",
   "version": "3.9.13"
  }
 },
 "nbformat": 4,
 "nbformat_minor": 2
}
